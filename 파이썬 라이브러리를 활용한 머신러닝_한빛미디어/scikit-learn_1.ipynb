{
 "cells": [
  {
   "cell_type": "markdown",
   "metadata": {},
   "source": [
    "# 파이썬 라이브러리를 활용한 머신러닝_사이킷런\n",
    "##### _한빛미디어"
   ]
  },
  {
   "cell_type": "markdown",
   "metadata": {},
   "source": [
    "## sickit-learn\n",
    "- NumPy, SciPy, pandas, matplotlib etc."
   ]
  },
  {
   "cell_type": "markdown",
   "metadata": {},
   "source": [
    "# NumPy\n",
    "- 파이썬으로 과학 계산\n",
    "- 다차원 배열을 위한 선형 대수 연산, 푸리에 변환 등 고수준 수학 함수 + 유사 난수 생성기 포함! \n",
    "- sikit-learn에서 NumPy는 기본 데이터 구조; NumPy 형태의 데이터를 입력으로 받음.\n",
    "- 다차원 배열인 ndarray 클래스가 핵심 기능! (모든 원소는 동일한 데이터 타입이어야 한다.)"
   ]
  },
  {
   "cell_type": "code",
   "execution_count": 4,
   "metadata": {},
   "outputs": [
    {
     "name": "stdout",
     "output_type": "stream",
     "text": [
      "Requirement already satisfied: numpy in c:\\users\\raina\\anaconda3\\lib\\site-packages (1.16.5)\n",
      "Requirement already satisfied: scipy in c:\\users\\raina\\anaconda3\\lib\\site-packages (1.3.1)\n",
      "Requirement already satisfied: matplotlib in c:\\users\\raina\\anaconda3\\lib\\site-packages (3.1.1)\n",
      "Requirement already satisfied: ipython in c:\\users\\raina\\anaconda3\\lib\\site-packages (7.8.0)\n",
      "Requirement already satisfied: scikit-learn in c:\\users\\raina\\anaconda3\\lib\\site-packages (0.21.3)\n",
      "Requirement already satisfied: pandas in c:\\users\\raina\\anaconda3\\lib\\site-packages (0.25.1)\n",
      "Requirement already satisfied: pillow in c:\\users\\raina\\anaconda3\\lib\\site-packages (6.2.0)\n",
      "Requirement already satisfied: cycler>=0.10 in c:\\users\\raina\\anaconda3\\lib\\site-packages (from matplotlib) (0.10.0)\n",
      "Requirement already satisfied: kiwisolver>=1.0.1 in c:\\users\\raina\\anaconda3\\lib\\site-packages (from matplotlib) (1.1.0)\n",
      "Requirement already satisfied: pyparsing!=2.0.4,!=2.1.2,!=2.1.6,>=2.0.1 in c:\\users\\raina\\anaconda3\\lib\\site-packages (from matplotlib) (2.4.2)\n",
      "Requirement already satisfied: python-dateutil>=2.1 in c:\\users\\raina\\anaconda3\\lib\\site-packages (from matplotlib) (2.8.0)\n",
      "Requirement already satisfied: jedi>=0.10 in c:\\users\\raina\\anaconda3\\lib\\site-packages (from ipython) (0.15.1)\n",
      "Requirement already satisfied: traitlets>=4.2 in c:\\users\\raina\\anaconda3\\lib\\site-packages (from ipython) (4.3.3)\n",
      "Requirement already satisfied: decorator in c:\\users\\raina\\anaconda3\\lib\\site-packages (from ipython) (4.4.0)\n",
      "Requirement already satisfied: prompt-toolkit<2.1.0,>=2.0.0 in c:\\users\\raina\\anaconda3\\lib\\site-packages (from ipython) (2.0.10)\n",
      "Requirement already satisfied: backcall in c:\\users\\raina\\anaconda3\\lib\\site-packages (from ipython) (0.1.0)\n",
      "Requirement already satisfied: pickleshare in c:\\users\\raina\\anaconda3\\lib\\site-packages (from ipython) (0.7.5)\n",
      "Requirement already satisfied: colorama; sys_platform == \"win32\" in c:\\users\\raina\\anaconda3\\lib\\site-packages (from ipython) (0.4.1)\n",
      "Requirement already satisfied: pygments in c:\\users\\raina\\anaconda3\\lib\\site-packages (from ipython) (2.4.2)\n",
      "Requirement already satisfied: setuptools>=18.5 in c:\\users\\raina\\anaconda3\\lib\\site-packages (from ipython) (41.4.0)\n",
      "Requirement already satisfied: joblib>=0.11 in c:\\users\\raina\\anaconda3\\lib\\site-packages (from scikit-learn) (0.13.2)\n",
      "Requirement already satisfied: pytz>=2017.2 in c:\\users\\raina\\anaconda3\\lib\\site-packages (from pandas) (2019.3)\n",
      "Requirement already satisfied: six in c:\\users\\raina\\anaconda3\\lib\\site-packages (from cycler>=0.10->matplotlib) (1.12.0)\n",
      "Requirement already satisfied: parso>=0.5.0 in c:\\users\\raina\\anaconda3\\lib\\site-packages (from jedi>=0.10->ipython) (0.5.1)\n",
      "Requirement already satisfied: ipython-genutils in c:\\users\\raina\\anaconda3\\lib\\site-packages (from traitlets>=4.2->ipython) (0.2.0)\n",
      "Requirement already satisfied: wcwidth in c:\\users\\raina\\anaconda3\\lib\\site-packages (from prompt-toolkit<2.1.0,>=2.0.0->ipython) (0.1.7)\n",
      "Note: you may need to restart the kernel to use updated packages.\n"
     ]
    }
   ],
   "source": [
    "pip install numpy scipy matplotlib ipython scikit-learn pandas pillow"
   ]
  },
  {
   "cell_type": "code",
   "execution_count": 8,
   "metadata": {},
   "outputs": [
    {
     "name": "stdout",
     "output_type": "stream",
     "text": [
      "x:\n",
      " [[1 2 3]\n",
      " [4 5 6]]\n"
     ]
    }
   ],
   "source": [
    "# NumPy 배열의 예\n",
    "\n",
    "import numpy as np\n",
    "\n",
    "x = np.array([[1, 2, 3], [4, 5, 6]])\n",
    "print(\"x:\\n\", x)"
   ]
  },
  {
   "cell_type": "code",
   "execution_count": 9,
   "metadata": {},
   "outputs": [
    {
     "name": "stdout",
     "output_type": "stream",
     "text": [
      "NumPy 배열: \n",
      " [[1. 0. 0. 0.]\n",
      " [0. 1. 0. 0.]\n",
      " [0. 0. 1. 0.]\n",
      " [0. 0. 0. 1.]]\n"
     ]
    }
   ],
   "source": [
    "# SciPy\n",
    "\n",
    "from scipy import sparse\n",
    "\n",
    "eye = np.eye(4)\n",
    "print(\"NumPy 배열: \\n\", eye)"
   ]
  },
  {
   "cell_type": "code",
   "execution_count": 10,
   "metadata": {},
   "outputs": [
    {
     "name": "stdout",
     "output_type": "stream",
     "text": [
      "\n",
      "SciPy의 CSR 행렬:\n",
      "   (0, 0)\t1.0\n",
      "  (1, 1)\t1.0\n",
      "  (2, 2)\t1.0\n",
      "  (3, 3)\t1.0\n"
     ]
    }
   ],
   "source": [
    "sparse_matrix = sparse.csr_matrix(eye)\n",
    "print(\"\\nSciPy의 CSR 행렬:\\n\", sparse_matrix)"
   ]
  },
  {
   "cell_type": "code",
   "execution_count": 13,
   "metadata": {},
   "outputs": [
    {
     "name": "stdout",
     "output_type": "stream",
     "text": [
      "COO 표현:\n",
      "   (0, 0)\t1.0\n",
      "  (1, 1)\t1.0\n",
      "  (2, 2)\t1.0\n",
      "  (3, 3)\t1.0\n"
     ]
    }
   ],
   "source": [
    "# 희소 행렬 직접 만들기\n",
    "# 희소 행렬 (Sparse matrix): 행렬 대부분의 값이 0으로 이루어진 것\n",
    "\n",
    "data = np.ones(4)\n",
    "row_indices = np.arange(4)\n",
    "col_indices = np.arange(4)\n",
    "eye_coo = sparse.coo_matrix((data, (row_indices, col_indices)))\n",
    "\n",
    "print(\"COO 표현:\\n\", eye_coo)"
   ]
  }
 ],
 "metadata": {
  "kernelspec": {
   "display_name": "Python 3",
   "language": "python",
   "name": "python3"
  },
  "language_info": {
   "codemirror_mode": {
    "name": "ipython",
    "version": 3
   },
   "file_extension": ".py",
   "mimetype": "text/x-python",
   "name": "python",
   "nbconvert_exporter": "python",
   "pygments_lexer": "ipython3",
   "version": "3.7.4"
  }
 },
 "nbformat": 4,
 "nbformat_minor": 2
}
