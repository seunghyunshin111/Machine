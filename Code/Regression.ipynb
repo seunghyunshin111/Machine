{
 "cells": [
  {
   "cell_type": "markdown",
   "metadata": {},
   "source": [
    "import graph_plot as pl\n",
    "import preprocess as pre\n",
    "import model as md\n",
    "\n",
    "\n",
    "def main():\n",
    "\t\n",
    "    # 데이터를 불러옵니다.\n",
    "    feature, label = pre.load_data()\n",
    "    \n",
    "    # 학습용 데이터와 평가용 데이터로 분리합니다. \n",
    "    feature_train, feature_test, label_train, label_test = pre.data_split(feature, label)\n",
    "    \n",
    "    # 데이터를 출력합니다.\n",
    "    pl.data_plot(feature_train, label_train)\n",
    "    \n",
    "    # 머신러닝 모델 class를 초기화 합니다.\n",
    "    model = md.ml_model(initial_parameter = 1)\n",
    "    \n",
    "    # 모델을 학습합니다.\n",
    "    model.fit(feature_train, label_train)\n",
    "    \n",
    "    # 학습된 모델로 예측값을 계산합니다.\n",
    "    prediction = model.predict(feature_test)\n",
    "    \n",
    "    # 평가용 데이터를 사용하여 평가합니다.\n",
    "    score = model.score(prediction, label_test)\n",
    "    \n",
    "    print(\"Score: {}\".format(score))\n",
    "\n",
    "if __name__ == \"__main__\":\n",
    "    main()\n"
   ]
  },
  {
   "cell_type": "code",
   "execution_count": null,
   "metadata": {},
   "outputs": [],
   "source": []
  }
 ],
 "metadata": {
  "kernelspec": {
   "display_name": "Python 3",
   "language": "python",
   "name": "python3"
  },
  "language_info": {
   "codemirror_mode": {
    "name": "ipython",
    "version": 3
   },
   "file_extension": ".py",
   "mimetype": "text/x-python",
   "name": "python",
   "nbconvert_exporter": "python",
   "pygments_lexer": "ipython3",
   "version": "3.8.3"
  }
 },
 "nbformat": 4,
 "nbformat_minor": 4
}
